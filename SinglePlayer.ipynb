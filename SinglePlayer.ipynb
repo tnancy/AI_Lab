{
  "nbformat": 4,
  "nbformat_minor": 0,
  "metadata": {
    "colab": {
      "name": "SinglePlayer.ipynb",
      "provenance": []
    },
    "kernelspec": {
      "name": "python3",
      "display_name": "Python 3"
    },
    "language_info": {
      "name": "python"
    }
  },
  "cells": [
    {
      "cell_type": "code",
      "metadata": {
        "colab": {
          "base_uri": "https://localhost:8080/"
        },
        "id": "FJO4wiAHX_BN",
        "outputId": "daf2cf4e-af57-4f75-c306-04383d503837"
      },
      "source": [
        "import random\n",
        "print(\"#------------------#\")\n",
        "print(\"| GUESS THE NUMBER |\")\n",
        "print(\"#------------------#\")\n",
        "print('\\n')\n",
        "\n",
        "\n",
        "print('Range of Random Numbers.')\n",
        "start = int(input('Enter Starting Index: '))\n",
        "end = int(input('Enter Ending Index: '))\n",
        "number = random.randint(start, end)\n",
        "print('\\n')\n",
        "\n",
        "\n",
        "while True:\n",
        "    guess = int(input('Guess the number:  '))\n",
        "    if guess > number:\n",
        "        print('\\nHmmm, try a lower number...\\n')\n",
        "\n",
        "    elif guess < number:\n",
        "        print('\\nGo a little higher\\n')\n",
        "\n",
        "    else:\n",
        "        print(\"Right on! Well done!\")\n",
        "        break"
      ],
      "execution_count": 3,
      "outputs": [
        {
          "output_type": "stream",
          "name": "stdout",
          "text": [
            "#------------------#\n",
            "| GUESS THE NUMBER |\n",
            "#------------------#\n",
            "\n",
            "\n",
            "Range of Random Numbers.\n",
            "Enter Starting Index: 1\n",
            "Enter Ending Index: 10\n",
            "\n",
            "\n",
            "Guess the number:  3\n",
            "\n",
            "Go a little higher\n",
            "\n",
            "Guess the number:  2\n",
            "\n",
            "Go a little higher\n",
            "\n",
            "Guess the number:  6\n",
            "\n",
            "Go a little higher\n",
            "\n",
            "Guess the number:  13\n",
            "\n",
            "Hmmm, try a lower number...\n",
            "\n",
            "Guess the number:  20\n",
            "\n",
            "Hmmm, try a lower number...\n",
            "\n",
            "Guess the number:  12\n",
            "\n",
            "Hmmm, try a lower number...\n",
            "\n",
            "Guess the number:  11\n",
            "\n",
            "Hmmm, try a lower number...\n",
            "\n",
            "Guess the number:  10\n",
            "\n",
            "Hmmm, try a lower number...\n",
            "\n",
            "Guess the number:  2\n",
            "\n",
            "Go a little higher\n",
            "\n",
            "Guess the number:  5\n",
            "\n",
            "Go a little higher\n",
            "\n",
            "Guess the number:  10\n",
            "\n",
            "Hmmm, try a lower number...\n",
            "\n",
            "Guess the number:  9\n",
            "\n",
            "Hmmm, try a lower number...\n",
            "\n",
            "Guess the number:  8\n",
            "\n",
            "Hmmm, try a lower number...\n",
            "\n",
            "Guess the number:  7\n",
            "Right on! Well done!\n",
            "#------------------#\n",
            "| GUESS THE NUMBER |\n",
            "#------------------#\n",
            "\n",
            "\n",
            "Range of Random Numbers.\n"
          ]
        }
      ]
    },
    {
      "cell_type": "code",
      "metadata": {
        "id": "4LumAt8FYDCr"
      },
      "source": [
        ""
      ],
      "execution_count": null,
      "outputs": []
    }
  ]
}